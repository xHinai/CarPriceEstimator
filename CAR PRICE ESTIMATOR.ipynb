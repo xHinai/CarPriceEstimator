{
 "cells": [
  {
   "cell_type": "markdown",
   "id": "60d7931d",
   "metadata": {},
   "source": [
    "# CAR PRICE ESTIMATOR "
   ]
  },
  {
   "cell_type": "markdown",
   "id": "b0bde693",
   "metadata": {},
   "source": [
    "The following JupyterNotebook contains a program using classification to estimate the price of used cars based on several factors included in csv files. It will also contain the thought process and reasons for methods used."
   ]
  },
  {
   "cell_type": "markdown",
   "id": "d8d91c86",
   "metadata": {},
   "source": [
    "***"
   ]
  },
  {
   "cell_type": "markdown",
   "id": "e860c918",
   "metadata": {},
   "source": [
    "# IMPORTS"
   ]
  },
  {
   "cell_type": "markdown",
   "id": "683a86e2",
   "metadata": {},
   "source": [
    "Importing all the necessary libraries and modules."
   ]
  },
  {
   "cell_type": "code",
   "execution_count": 422,
   "id": "88302531",
   "metadata": {},
   "outputs": [],
   "source": [
    "import pandas as pd\n",
    "import numpy as np\n",
    "from sklearn.tree import DecisionTreeClassifier\n",
    "from sklearn.preprocessing import LabelEncoder\n",
    "from sklearn.metrics import mean_absolute_error"
   ]
  },
  {
   "cell_type": "markdown",
   "id": "b0bd2590",
   "metadata": {},
   "source": [
    "Read csv data and defining parameters. Splitting the data will not be required as testing and training files are seperate. In the future, validity of the model should also be tested on the same data set by allocating, for example 80%, of the data for training. X is conventionally used for independant variables while y for the target."
   ]
  },
  {
   "cell_type": "code",
   "execution_count": 423,
   "id": "14e66248",
   "metadata": {},
   "outputs": [],
   "source": [
    "#Importing training and tesing Data sets\n",
    "df_train = pd.read_csv('data_train.csv')\n",
    "df_test = pd.read_csv('data_test.csv') \n",
    "\n",
    "#\".astype(int)\" is used on target values to avoid continuous variable error\n",
    "#Defining training X and y\n",
    "X_train = df_train.drop(columns=['price_usd']) \n",
    "y_train = df_train['price_usd'].astype(int)                \n",
    "\n",
    "#defining testing X and y\n",
    "X_test = df_test.drop(columns=['price_usd'])   \n",
    "y_test = df_test['price_usd'].astype(int)                               "
   ]
  },
  {
   "cell_type": "markdown",
   "id": "69d74346",
   "metadata": {},
   "source": [
    "***"
   ]
  },
  {
   "cell_type": "markdown",
   "id": "197f2d21",
   "metadata": {},
   "source": [
    "# CLEAN UP"
   ]
  },
  {
   "cell_type": "markdown",
   "id": "af74ab11",
   "metadata": {},
   "source": [
    "Since the DecisionTreeClassifier will be used for this predictive model, strings within the data must be converted to numerical values. This can be done by assigning the LabelEncoder transformer to the string values."
   ]
  },
  {
   "cell_type": "code",
   "execution_count": 424,
   "id": "392f7a23",
   "metadata": {
    "scrolled": true
   },
   "outputs": [],
   "source": [
    "#Transforming the training and testing string variables to numerical values\n",
    "\n",
    "let = LabelEncoder()\n",
    "\n",
    "#Assigning and transforming the likned variables by using \".fit_transform\"\n",
    "\n",
    "#Training Data\n",
    "\n",
    "X_train['manufacturer_name_n']=let.fit_transform(X_train['manufacturer_name'])\n",
    "X_train['transmission_n']=let.fit_transform(X_train['transmission'])\n",
    "X_train['color_n']=let.fit_transform(X_train['color'])\n",
    "X_train['engine_fuel_n']=let.fit_transform(X_train['engine_fuel'])\n",
    "X_train['engine_type_n']=let.fit_transform(X_train['engine_type'])\n",
    "X_train['body_type_n']=let.fit_transform(X_train['body_type'])\n",
    "X_train['has_warranty_n']=let.fit_transform(X_train['has_warranty'])\n",
    "X_train['ownership_n']=let.fit_transform(X_train['ownership'])\n",
    "X_train['type_of_drive_n']=let.fit_transform(X_train['type_of_drive'])\n",
    "X_train['is_exchangeable_n']=let.fit_transform(X_train['is_exchangeable'])\n",
    "\n",
    "#Testing Data\n",
    "\n",
    "X_test['manufacturer_name_n']=let.fit_transform(X_test['manufacturer_name'])\n",
    "X_test['transmission_n']=let.fit_transform(X_test['transmission'])\n",
    "X_test['color_n']=let.fit_transform(X_test['color'])\n",
    "X_test['engine_fuel_n']=let.fit_transform(X_test['engine_fuel'])\n",
    "X_test['engine_type_n']=let.fit_transform(X_test['engine_type'])\n",
    "X_test['body_type_n']=let.fit_transform(X_test['body_type'])\n",
    "X_test['has_warranty_n']=let.fit_transform(X_test['has_warranty'])\n",
    "X_test['ownership_n']=let.fit_transform(X_test['ownership'])\n",
    "X_test['type_of_drive_n']=let.fit_transform(X_test['type_of_drive'])\n",
    "X_test['is_exchangeable_n']=let.fit_transform(X_test['is_exchangeable'])"
   ]
  },
  {
   "cell_type": "markdown",
   "id": "a154dfc2",
   "metadata": {},
   "source": [
    "To avoid any errors with the classifier, the string values must nowbe dropped from the data set"
   ]
  },
  {
   "cell_type": "code",
   "execution_count": 425,
   "id": "9ca8014a",
   "metadata": {},
   "outputs": [],
   "source": [
    "#Dropping string values from the training data set\n",
    "\n",
    "X_train_n = X_train.drop(['manufacturer_name', 'transmission', 'color',\n",
    "                          'engine_fuel', 'engine_type', 'body_type',\n",
    "                         'has_warranty', 'ownership', 'type_of_drive',\n",
    "                         'is_exchangeable'], axis='columns')\n",
    "\n",
    "#Dropping string values from the testing data set\n",
    "\n",
    "X_test_nt = X_test.drop(['manufacturer_name', 'transmission', 'color',\n",
    "                          'engine_fuel', 'engine_type', 'body_type',\n",
    "                         'has_warranty', 'ownership', 'type_of_drive',\n",
    "                         'is_exchangeable'], axis='columns')\n",
    "\n",
    "#After checking for NaN values in the data, 15 occurences where found and must be dealt with\n",
    "#Using \".fillna\" to assign a values to NaN instances \n",
    "\n",
    "X_train_n2 = X_train_n.fillna(value = 0)\n",
    "X_test_nt2 = X_test_nt.fillna(value = 0)\n",
    "\n",
    "#For the sake of trial and error 0 was initially assigned for the NaN values\n",
    "#Other methods of dealing with NaN values may include using a different clasiffier with NaN tolerance\n",
    "#or by simply removing the row including any NaN cell"
   ]
  },
  {
   "cell_type": "markdown",
   "id": "4f7ab073",
   "metadata": {},
   "source": [
    "***"
   ]
  },
  {
   "cell_type": "markdown",
   "id": "55e8565b",
   "metadata": {},
   "source": [
    "# TRAIN AND TEST THE MODEL"
   ]
  },
  {
   "cell_type": "markdown",
   "id": "7119613a",
   "metadata": {},
   "source": [
    "Creating and training the model using the DecisionTreeClassifier, and training the model by using \".fit(X, y)\""
   ]
  },
  {
   "cell_type": "code",
   "execution_count": 426,
   "id": "b95d34b5",
   "metadata": {
    "scrolled": true
   },
   "outputs": [
    {
     "data": {
      "text/html": [
       "<style>#sk-container-id-24 {color: black;background-color: white;}#sk-container-id-24 pre{padding: 0;}#sk-container-id-24 div.sk-toggleable {background-color: white;}#sk-container-id-24 label.sk-toggleable__label {cursor: pointer;display: block;width: 100%;margin-bottom: 0;padding: 0.3em;box-sizing: border-box;text-align: center;}#sk-container-id-24 label.sk-toggleable__label-arrow:before {content: \"▸\";float: left;margin-right: 0.25em;color: #696969;}#sk-container-id-24 label.sk-toggleable__label-arrow:hover:before {color: black;}#sk-container-id-24 div.sk-estimator:hover label.sk-toggleable__label-arrow:before {color: black;}#sk-container-id-24 div.sk-toggleable__content {max-height: 0;max-width: 0;overflow: hidden;text-align: left;background-color: #f0f8ff;}#sk-container-id-24 div.sk-toggleable__content pre {margin: 0.2em;color: black;border-radius: 0.25em;background-color: #f0f8ff;}#sk-container-id-24 input.sk-toggleable__control:checked~div.sk-toggleable__content {max-height: 200px;max-width: 100%;overflow: auto;}#sk-container-id-24 input.sk-toggleable__control:checked~label.sk-toggleable__label-arrow:before {content: \"▾\";}#sk-container-id-24 div.sk-estimator input.sk-toggleable__control:checked~label.sk-toggleable__label {background-color: #d4ebff;}#sk-container-id-24 div.sk-label input.sk-toggleable__control:checked~label.sk-toggleable__label {background-color: #d4ebff;}#sk-container-id-24 input.sk-hidden--visually {border: 0;clip: rect(1px 1px 1px 1px);clip: rect(1px, 1px, 1px, 1px);height: 1px;margin: -1px;overflow: hidden;padding: 0;position: absolute;width: 1px;}#sk-container-id-24 div.sk-estimator {font-family: monospace;background-color: #f0f8ff;border: 1px dotted black;border-radius: 0.25em;box-sizing: border-box;margin-bottom: 0.5em;}#sk-container-id-24 div.sk-estimator:hover {background-color: #d4ebff;}#sk-container-id-24 div.sk-parallel-item::after {content: \"\";width: 100%;border-bottom: 1px solid gray;flex-grow: 1;}#sk-container-id-24 div.sk-label:hover label.sk-toggleable__label {background-color: #d4ebff;}#sk-container-id-24 div.sk-serial::before {content: \"\";position: absolute;border-left: 1px solid gray;box-sizing: border-box;top: 0;bottom: 0;left: 50%;z-index: 0;}#sk-container-id-24 div.sk-serial {display: flex;flex-direction: column;align-items: center;background-color: white;padding-right: 0.2em;padding-left: 0.2em;position: relative;}#sk-container-id-24 div.sk-item {position: relative;z-index: 1;}#sk-container-id-24 div.sk-parallel {display: flex;align-items: stretch;justify-content: center;background-color: white;position: relative;}#sk-container-id-24 div.sk-item::before, #sk-container-id-24 div.sk-parallel-item::before {content: \"\";position: absolute;border-left: 1px solid gray;box-sizing: border-box;top: 0;bottom: 0;left: 50%;z-index: -1;}#sk-container-id-24 div.sk-parallel-item {display: flex;flex-direction: column;z-index: 1;position: relative;background-color: white;}#sk-container-id-24 div.sk-parallel-item:first-child::after {align-self: flex-end;width: 50%;}#sk-container-id-24 div.sk-parallel-item:last-child::after {align-self: flex-start;width: 50%;}#sk-container-id-24 div.sk-parallel-item:only-child::after {width: 0;}#sk-container-id-24 div.sk-dashed-wrapped {border: 1px dashed gray;margin: 0 0.4em 0.5em 0.4em;box-sizing: border-box;padding-bottom: 0.4em;background-color: white;}#sk-container-id-24 div.sk-label label {font-family: monospace;font-weight: bold;display: inline-block;line-height: 1.2em;}#sk-container-id-24 div.sk-label-container {text-align: center;}#sk-container-id-24 div.sk-container {/* jupyter's `normalize.less` sets `[hidden] { display: none; }` but bootstrap.min.css set `[hidden] { display: none !important; }` so we also need the `!important` here to be able to override the default hidden behavior on the sphinx rendered scikit-learn.org. See: https://github.com/scikit-learn/scikit-learn/issues/21755 */display: inline-block !important;position: relative;}#sk-container-id-24 div.sk-text-repr-fallback {display: none;}</style><div id=\"sk-container-id-24\" class=\"sk-top-container\"><div class=\"sk-text-repr-fallback\"><pre>DecisionTreeClassifier()</pre><b>In a Jupyter environment, please rerun this cell to show the HTML representation or trust the notebook. <br />On GitHub, the HTML representation is unable to render, please try loading this page with nbviewer.org.</b></div><div class=\"sk-container\" hidden><div class=\"sk-item\"><div class=\"sk-estimator sk-toggleable\"><input class=\"sk-toggleable__control sk-hidden--visually\" id=\"sk-estimator-id-24\" type=\"checkbox\" checked><label for=\"sk-estimator-id-24\" class=\"sk-toggleable__label sk-toggleable__label-arrow\">DecisionTreeClassifier</label><div class=\"sk-toggleable__content\"><pre>DecisionTreeClassifier()</pre></div></div></div></div></div>"
      ],
      "text/plain": [
       "DecisionTreeClassifier()"
      ]
     },
     "execution_count": 426,
     "metadata": {},
     "output_type": "execute_result"
    }
   ],
   "source": [
    "model = DecisionTreeClassifier()   #creating the model\n",
    "model.fit(X_train_n2, y_train)      #training the model\n"
   ]
  },
  {
   "cell_type": "markdown",
   "id": "90a6185a",
   "metadata": {},
   "source": [
    "The final steps consist of predicting the target values and calculating the mean absolute error in USD"
   ]
  },
  {
   "cell_type": "code",
   "execution_count": 427,
   "id": "0be005d8",
   "metadata": {},
   "outputs": [],
   "source": [
    "#predicting the y values for test data\n",
    "\n",
    "predictions = model.predict(X_test_nt2) "
   ]
  },
  {
   "cell_type": "code",
   "execution_count": 428,
   "id": "ebda7692",
   "metadata": {},
   "outputs": [
    {
     "data": {
      "text/plain": [
       "653.2338888888889"
      ]
     },
     "execution_count": 428,
     "metadata": {},
     "output_type": "execute_result"
    }
   ],
   "source": [
    "#Calculating the mean absolute error between the test and predicted data\n",
    "\n",
    "mean_absolute_error(y_test, predictions)"
   ]
  },
  {
   "cell_type": "markdown",
   "id": "ae418d60",
   "metadata": {},
   "source": [
    "# Conclusion "
   ]
  },
  {
   "cell_type": "markdown",
   "id": "07924b9d",
   "metadata": {},
   "source": [
    "After several itterations, the MAE ranges in value between approximately 650 and 670 USD. Considering that the average price of car in the data set is 6611.33, MAE is around 10% deviance. This can be improved in several ways in the future like testing different classifiers or training with more data."
   ]
  }
 ],
 "metadata": {
  "kernelspec": {
   "display_name": "Python 3 (ipykernel)",
   "language": "python",
   "name": "python3"
  },
  "language_info": {
   "codemirror_mode": {
    "name": "ipython",
    "version": 3
   },
   "file_extension": ".py",
   "mimetype": "text/x-python",
   "name": "python",
   "nbconvert_exporter": "python",
   "pygments_lexer": "ipython3",
   "version": "3.9.12"
  }
 },
 "nbformat": 4,
 "nbformat_minor": 5
}
